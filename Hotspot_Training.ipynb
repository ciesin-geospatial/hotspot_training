{
 "cells": [
  {
   "cell_type": "code",
   "execution_count": null,
   "metadata": {},
   "outputs": [],
   "source": [
    "from IPython.display import Image\n",
    "from IPython.core.display import HTML \n",
    "\n"
   ]
  },
  {
   "attachments": {},
   "cell_type": "markdown",
   "metadata": {},
   "source": [
    "Entrenamiento provedido en Español <br>\n",
    "Training offered in English"
   ]
  },
  {
   "attachments": {},
   "cell_type": "markdown",
   "metadata": {},
   "source": [
    "<img src=\"https://www.ciesin.columbia.edu/images/logo_sm.png\" >"
   ]
  },
  {
   "attachments": {},
   "cell_type": "markdown",
   "metadata": {},
   "source": [
    "# ANALYSIS DE PUNTOS CRITICOS DE VULNERABILIDAD - AmeriGEO 2023 San Jose\n",
    "# HOTSPOT VULNERABILITY ANALYSIS - AmeriGEO 2023 San Jose"
   ]
  },
  {
   "attachments": {},
   "cell_type": "markdown",
   "metadata": {},
   "source": [
    "### JUAN F. MARTINEZ, Center for International Earth Science Information Network (CIESIN)"
   ]
  },
  {
   "attachments": {},
   "cell_type": "markdown",
   "metadata": {},
   "source": [
    "#### The Hotspot vulnerability training will provide a comprehensive training in the framework, data, and methods used to develop a spatial vulnerability assessment.\n",
    "##### The training will utilize open-acccess software and data to demonstrate how to develop a final hotspot analysis product using different sources and formats of data. The training will take three stages:\n",
    "##### 1. Theoretical Framework of the Index Approach to Hotspospot Vulnerability Mapping \n",
    "##### 2. Processing of Different Data Products: Case Study in Municipalities of Cauca, Colombia\n",
    "##### 3. Indexing and Aggregating Process"
   ]
  },
  {
   "attachments": {},
   "cell_type": "markdown",
   "metadata": {},
   "source": [
    "## 1. Theoretical Framework of the Index Approach\n",
    "The United Nation's 2030 Sustainable Development Agenda has provided us a blueprint for peace and prosperity for people and the planet, now and into the future. <br>\n",
    "The 17 Sustainable Development Goals (SDG's) are the main pillars of the Agenda that call for global partnership from all member countries. <br>\n",
    "<img src=\"https://www.undp.org/sites/g/files/zskgke326/files/migration/mm/sdg-sticker-eng.jpg\" width=\"50%\"><br>\n",
    "##### The first Sustainable Development Goal (SDG) in the United Nations (UN) 2030 Agenda seeks to end poverty of all forms everywhere by reaching the poorest of the poor, and to ensure progress for all population groups. <br>\n",
    "##### Poverty has been traditionally measured by individual economic dimensions of income and wealth. For example, the <a href=\"https://www.worldbank.org/en/understanding-poverty#:~:text=Regions%20are%20categorized%20using%20PIP%20definition.&text=Note%20on%20global%20poverty%20lines,%242.15%20per%20person%20per%20day.\" target=\"_blank\">World Bank defined the global extreme-poverty line as $2.15 USD (2022)</a> income or below per day, which is based on the national poverty lines of the world’s 15 poorest countries. However, these indicators do not entirely consider other non-financial forms of poverty that may be of equal importance. The concept of multidimensional poverty encompasses a more holistic view because it attempts to account for the lived experiences of people and the multiple deprivations they face in their daily lives beyond their incomes.\n",
    "\n",
    "## Examples of Multidimensional Poverty Indices\n",
    "\n",
    "\n",
    "  \n"
   ]
  },
  {
   "attachments": {},
   "cell_type": "markdown",
   "metadata": {},
   "source": [
    "### Data Sources:\n",
    "<a href=\"https://geoportal.dane.gov.co/servicios/descarga-y-metadatos/descarga-mgn-marco-geoestadistico-nacional/#gsc.tab=0\">Colombia Municipal Boundaries</a>\n",
    "\n",
    "<a href=\"https://geoportal.dane.gov.co/geovisores/sociedad/indicadores-regionales/\"> Valle del Cauca Proportion of people in poverty</a>"
   ]
  },
  {
   "cell_type": "code",
   "execution_count": null,
   "metadata": {},
   "outputs": [],
   "source": [
    "#install libraries required for this tutorial\n",
    "pip install geopandas rasterio matplotlib numpy pandas rasterstats\n"
   ]
  },
  {
   "cell_type": "code",
   "execution_count": null,
   "metadata": {},
   "outputs": [],
   "source": [
    "#import libraries required for this tutorial\n",
    "import geopandas as gpd\n",
    "import rasterio\n",
    "from rasterio import mask\n",
    "from rasterio.plot import show\n",
    "from rasterio.plot import show_hist\n",
    "import matplotlib.pyplot as plt\n",
    "import numpy as np\n",
    "import pandas as pd\n",
    "from rasterstats import zonal_stats\n",
    "\n"
   ]
  },
  {
   "cell_type": "code",
   "execution_count": null,
   "metadata": {},
   "outputs": [],
   "source": [
    "#file such as a geoTiff or shapefile used to delineate zones. \n",
    "#Values shoud be integers\n",
    "zones = gpd.read_file(\"data/Col_CAUCA_municip.shp\")\n",
    "\n",
    "#files of data used to perform zonal statistics\n",
    "\n",
    "#Land Surface Temperature (LST)\n",
    "LST = rasterio.open(\"data/summer_LST.tif\")\n",
    "#freshwater availability (water)\n",
    "water = rasterio.open(\"data/freshwater.tif\")\n",
    "#ozone particulate matter 2.5 (PM25)\n",
    "PM25 = rasterio.open(\"data/PM25.tif\")\n",
    "\n",
    "\n",
    "#read LST raster band 1 \n",
    "LST_data = LST.read(1, masked=True)\n",
    "#mask null value\n",
    "#LST_data = np.ma.masked_array(LST_r, mask=(LST_r < 0))\n",
    "\n",
    "#read LST raster band 1\n",
    "water_data = water.read(1, masked=True)\n",
    "#water_data = np.ma.masked_array(water)\n",
    "\n",
    "#read LST raster band 1\n",
    "PM25_data = PM25.read(1, masked=True)\n",
    "#mask null value\n",
    "#PM25_data = np.ma.masked_array(PM25_r, mask=(PM25_r < 0))\n",
    "\n"
   ]
  },
  {
   "cell_type": "code",
   "execution_count": null,
   "metadata": {},
   "outputs": [],
   "source": [
    "#create a plot with 1 row and 4 columns limiting size to 20 by 5\n",
    "fig, ax = plt.subplots(1,4, figsize = (20,5))\n",
    "#plot the zones shapefile in the first column named ax[0] \n",
    "zones.plot(cmap = 'rainbow', ax=ax[0])\n",
    "\n",
    "#plot rasters in the rest of the columns\n",
    "im1 = ax[1].imshow(LST_data, cmap='plasma')\n",
    "im2 = ax[2].imshow(water_data, cmap='GnBu')\n",
    "im3 = ax[3].imshow(PM25_data, cmap='viridis')\n",
    "\n",
    "#set titles for graphs\n",
    "ax[0].set_title('Cauca - Municipalidades', wrap=True)\n",
    "ax[1].set_title('Cauca - Summer Land\\nSurface Temperature', wrap=True);\n",
    "ax[2].set_title('Cauca - Freshwater Availability', wrap=True);\n",
    "ax[3].set_title('Cauca - Particulate Matter 2.5 (PM2.5)', wrap=True);\n",
    "\n",
    "#color bar for rasters\n",
    "fig.colorbar(im1, ax=ax[1])\n",
    "fig.colorbar(im2, ax=ax[2])\n",
    "fig.colorbar(im3, ax=ax[3])\n",
    "\n",
    "plt.show()"
   ]
  },
  {
   "cell_type": "code",
   "execution_count": null,
   "metadata": {},
   "outputs": [],
   "source": [
    "rasterio.plot.show_hist(LST_data)\n",
    "rasterio.plot.show_hist(water_data)\n",
    "rasterio.plot.show_hist(PM25_data)\n",
    "\n"
   ]
  },
  {
   "cell_type": "code",
   "execution_count": null,
   "metadata": {},
   "outputs": [],
   "source": [
    "\n",
    "#loop through zone IDs\n",
    "for i in zones['MID'][:1]:\n",
    "    print(i)\n",
    "    #get single shape from shapefile\n",
    "    roi = zones[zones.MID == i]\n",
    "    LST_arr, LSTbound = mask.mask(LST, roi[\"geometry\"], crop=True, all_touched=True, nodata=-9999)\n",
    "    water_arr, waterbound = mask.mask(water, roi[\"geometry\"], crop=True, all_touched=True, nodata=-9999)\n",
    "    PM25_arr, PM25bound = mask.mask(PM25, roi[\"geometry\"], crop=True, all_touched=True, nodata=-9999) \n",
    "    LST_arr[LST_arr ==-9999] = None\n",
    "    water_arr[water_arr ==-9999] = None\n",
    "    PM25_arr[PM25_arr ==-9999] = None\n",
    "show(LST_arr)  \n",
    "show(water_arr) \n",
    "show(PM25_arr)    "
   ]
  },
  {
   "cell_type": "code",
   "execution_count": null,
   "metadata": {},
   "outputs": [],
   "source": []
  },
  {
   "cell_type": "code",
   "execution_count": null,
   "metadata": {},
   "outputs": [],
   "source": [
    "\n",
    "df = pd.DataFrame(columns =['MID','LST','water','PM25'])\n",
    "\n",
    "#loop through zone IDs\n",
    "for i in zones['MID']:\n",
    "    #print(i)\n",
    "    #get single shape from shapefile\n",
    "    roi = zones[zones.MID == i]\n",
    "    LST_arr, LSTbound = mask.mask(LST, roi[\"geometry\"], crop=True, all_touched=True, nodata=-9999)\n",
    "    water_arr, waterbound = mask.mask(water, roi[\"geometry\"], crop=True, all_touched=True, nodata=-9999)\n",
    "    PM25_arr, PM25bound = mask.mask(PM25, roi[\"geometry\"], crop=True, all_touched=True, nodata=-9999) \n",
    "    LST_arr[LST_arr ==-9999] = None\n",
    "    water_arr[water_arr ==-9999] = None\n",
    "    PM25_arr[PM25_arr ==-9999] = None\n",
    "    row_to_append = pd.DataFrame([{'MID':i, 'LST': np.nanmean(LST_arr), \n",
    "                                   'water':np.nanmean(water_arr),\n",
    "                                   'PM25': np.nanmean(PM25_arr)}])\n",
    "    df = pd.concat([df,row_to_append])\n",
    "df\n",
    "\n",
    " "
   ]
  },
  {
   "cell_type": "code",
   "execution_count": null,
   "metadata": {},
   "outputs": [],
   "source": [
    "df['LST_index'] = (df['LST']-df['LST'].min())/(df['LST'].max()- df['LST'].min())*100\n",
    "df['water_index'] = (df['water']-df['water'].max())/(df['water'].min()- df['water'].max())*100\n",
    "df['PM25_index'] = (df['PM25']-df['PM25'].min())/(df['PM25'].max()- df['PM25'].min())*100\n",
    "df['HVI_sum']= df['LST_index']+ df['water_index']+df['PM25_index']\n",
    "df['HVI'] = (df['HVI_sum']-df['HVI_sum'].min())/(df['HVI_sum'].max()- df['HVI_sum'].min())*100\n",
    "df"
   ]
  },
  {
   "cell_type": "code",
   "execution_count": null,
   "metadata": {},
   "outputs": [],
   "source": [
    "zones = zones.merge(df, on='MID')"
   ]
  },
  {
   "cell_type": "code",
   "execution_count": null,
   "metadata": {},
   "outputs": [],
   "source": [
    "zones.plot(column='HVI', cmap='inferno', legend=True)"
   ]
  }
 ],
 "metadata": {
  "kernelspec": {
   "display_name": "Python 3",
   "language": "python",
   "name": "python3"
  },
  "language_info": {
   "codemirror_mode": {
    "name": "ipython",
    "version": 3
   },
   "file_extension": ".py",
   "mimetype": "text/x-python",
   "name": "python",
   "nbconvert_exporter": "python",
   "pygments_lexer": "ipython3",
   "version": "3.9.16"
  },
  "orig_nbformat": 4
 },
 "nbformat": 4,
 "nbformat_minor": 2
}
